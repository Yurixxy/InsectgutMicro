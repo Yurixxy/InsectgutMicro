{
 "cells": [
  {
   "cell_type": "markdown",
   "id": "4d9d8297-5e63-4692-ab16-9d00f2722ae2",
   "metadata": {},
   "source": [
    "# Xinyu Xie's MSc Research Project Pipeline\n",
    "Xinyu Xie's MSc Research Project Pipeline\n",
    "\n",
    "This pipeline focuses on analyzing insect gut microbiome diversity and composition using 16S rRNA sequencing data. \n",
    "Explanation of how the different steps of the pipeline work can be found below the pipeline, in the 'Pipeline explanation' section.\n",
    "\n",
    "Pipeline Steps:\n",
    "\n",
    "1. Preparation for data download.\n",
    "2. Downloading SRA data relevant data regarding insect gut microbiomes from the NCBI website.  \n",
    "3. Converting SRA data to FASTQ format.\n",
    "4. Sequencing data quality control and processing with FastQC software.\n",
    "5. 16S rRNA gene sequencing analysis using QIIME.\n",
    "       \n"
   ]
  },
  {
   "cell_type": "markdown",
   "id": "f58cb943-0c0f-46ac-b160-a5bf3b660af4",
   "metadata": {},
   "source": [
    "## 1 - Preparation for data download\n",
    "Before data download, Install essential tools like sratoolkit and Aspera Connect for efficient data downloading and handling."
   ]
  },
  {
   "cell_type": "markdown",
   "id": "9ab5e9b1",
   "metadata": {},
   "source": [
    "01. Downloading SRA Toolkit\n",
    "\n",
    "    https://github.com/ncbi/sra-tools/wiki/01.-Downloading-SRA-Toolkit\n",
    "    \n",
    "    Download the installation package suitable for your computer model and double-click to extract it.\n",
    "\n",
    "02. Installing Aspera Connect\n",
    "\n",
    "    https://downloads.asperasoft.com/connect2/\n",
    "    \n",
    "    Click on \"Download Aspera Connect\" and follow the steps to download and install.\n",
    "    Once downloaded, Aspera Connect will be enabled as a browser extension (you may need to manually adjust browser settings preferences to allow the extension to run).\n",
    "\n",
    "03. Changing the Default Download Path of the SRA Toolkit\n",
    "\n",
    "    Navigate to the bin folder in the sratoolkit: Enter"
   ]
  },
  {
   "cell_type": "code",
   "execution_count": null,
   "id": "5308d864",
   "metadata": {
    "vscode": {
     "languageId": "python"
    }
   },
   "outputs": [],
   "source": [
    "cd /Users/SUO/Desktop/sratoolkit.3.1.0/bin/vdb-config -i"
   ]
  },
  {
   "cell_type": "markdown",
   "id": "62d346d7-64a0-49c4-b6ce-a1827e72bc66",
   "metadata": {},
   "source": [
    "Use your keyboard to change the cache corresponding to the SRA data download path."
   ]
  },
  {
   "cell_type": "markdown",
   "id": "d6bdbd19-d0b0-4a4f-9ef2-6f8bb44b8f2f",
   "metadata": {},
   "source": [
    "## 2 - Downloading SRA data and Converting SRA data to FASTQ format.\n",
    "Downloading SRA data relevant data regarding insect gut microbiomes from the NCBI website.\n",
    "\n"
   ]
  },
  {
   "cell_type": "markdown",
   "id": "c1bf72da",
   "metadata": {},
   "source": [
    "01. Open a browser and enter the following URL:\n",
    "\n",
    "    https://www.ncbi.nlm.nih.gov/Traces/study/?acc=SRP017096&o=acc_s%3Aa\n",
    "    \n",
    "    This step uses project SRP017096 as example.\n",
    "\n",
    "02. Download the \"Accession List\" to obtain the file named \"SRR_Acc_List.txt\"\n",
    "\n",
    "03. Open the terminal and run the script download_srr.sh."
   ]
  },
  {
   "cell_type": "code",
   "execution_count": null,
   "id": "9ca61b64",
   "metadata": {
    "vscode": {
     "languageId": "python"
    }
   },
   "outputs": [],
   "source": [
    "#!/bin/bash\n",
    "\n",
    "# define your SRR_Acc_List.txt path\n",
    "ACC_LIST_PATH=\"/Users/SUO/Desktop/test/SRR_Acc_List.txt\"\n",
    "\n",
    "# define your output path\n",
    "OUTPUT_DIR=\"/Users/SUO/Desktop/test/fastq\"\n",
    "\n",
    "# Check and create output directory if it doesn't exist\n",
    "mkdir -p \"$OUTPUT_DIR\"\n",
    "\n",
    "# read every single row of SRR number\n",
    "while IFS= read -r srr_id\n",
    "do\n",
    "    echo \"Downloading $srr_id\"\n",
    "    prefetch $srr_id\n",
    "    # option: use fasterq-dump convert to FASTQ file\n",
    "    echo \"Converting $srr_id\"\n",
    "    fasterq-dump $srr_id -O \"$OUTPUT_DIR\"\n",
    "done < \"$ACC_LIST_PATH\"\n",
    "\n",
    "#get one specific SRR file to certain path:\n",
    "#prefetch SRR616206 -O /Users/SUO/ncbi/SRP017096\n"
   ]
  },
  {
   "cell_type": "markdown",
   "id": "c4a9c9b9-58aa-4e85-b34d-f88bd90ebc76",
   "metadata": {},
   "source": [
    "The above step should convert SRR files into FASTQ files."
   ]
  },
  {
   "cell_type": "markdown",
   "id": "b00b677f",
   "metadata": {},
   "source": [
    "## 3 - Sequencing data quality control and processing with FastQC software.\n"
   ]
  },
  {
   "cell_type": "markdown",
   "id": "400cbc01",
   "metadata": {},
   "source": [
    "01. Downloading conda environment\n",
    "\n",
    "    Make sure your laptop has a conda environment : Miniconda or Anaconda\n",
    "    (I already have Anaconda in my Macbook)\n",
    "\n",
    "02. Installing Bioconda and Conda Forge channels\n",
    "\n",
    "\n",
    "03. Install FastQC\n"
   ]
  },
  {
   "cell_type": "code",
   "execution_count": null,
   "id": "d3f4d685",
   "metadata": {
    "vscode": {
     "languageId": "python"
    }
   },
   "outputs": [],
   "source": [
    "# update Conda\n",
    "conda update conda\n",
    "\n",
    "# Add Bioconda and Conda Forge channels\n",
    "conda config --add channels defaults\n",
    "conda config --add channels bioconda\n",
    "conda config --add channels conda-forge\n",
    "\n",
    "# Install FastQC\n",
    "conda install fastqc\n",
    "\n",
    "# Check FastQC install\n",
    "fastqc --version"
   ]
  },
  {
   "cell_type": "markdown",
   "id": "8db502f1",
   "metadata": {},
   "source": [
    "04. Run run_fastqc.sh\n",
    "\n",
    "\n"
   ]
  },
  {
   "cell_type": "code",
   "execution_count": null,
   "id": "f2fc56d7",
   "metadata": {
    "vscode": {
     "languageId": "python"
    }
   },
   "outputs": [],
   "source": [
    "#!/bin/bash\n",
    "\n",
    "# define input and output paths\n",
    "INPUT_DIR=\"/Users/SUO/ncbi/test/fastq\"\n",
    "OUTPUT_DIR=\"/Users/SUO/ncbi/FASTQC\"\n",
    "\n",
    "# Check and create output directory if it doesn't exist\n",
    "mkdir -p \"$OUTPUT_DIR\"\n",
    "\n",
    "# read evry single FASTQ file and run FastQC\n",
    "for fastq_file in \"$INPUT_DIR\"/*.fastq; do\n",
    "    echo \"Processing $fastq_file\"\n",
    "    fastqc -o \"$OUTPUT_DIR\" \"$fastq_file\"\n",
    "done\n",
    "\n",
    "echo \"All files have been processed.\""
   ]
  },
  {
   "cell_type": "markdown",
   "id": "22740dcf",
   "metadata": {},
   "source": [
    "## 4 - 16S rRNA gene sequencing analysis using QIIME2:\n"
   ]
  },
  {
   "cell_type": "markdown",
   "id": "5ae621d9",
   "metadata": {},
   "source": [
    "## 4.1 - Download and use QIIME for 16S rRNA gene sequencing analysis"
   ]
  },
  {
   "cell_type": "code",
   "execution_count": null,
   "id": "ac4bbe03",
   "metadata": {
    "vscode": {
     "languageId": "python"
    }
   },
   "outputs": [],
   "source": [
    "conda update conda\n",
    "conda install wget\n",
    "\n",
    "# QIIME2 Amplicon Distribution for macOS(Apple Silicon)\n",
    "wget https://data.qiime2.org/distro/amplicon/qiime2-amplicon-2024.2-py38-osx-conda.yml\n",
    "CONDA_SUBDIR=osx-64 conda env create -n qiime2-amplicon-2024.2 --file qiime2-amplicon-2024.2-py38-osx-conda.yml\n",
    "conda activate qiime2-amplicon-2024.2\n",
    "conda config --env --set subdir osx-64\n",
    "\n",
    "# Test your installation\n",
    "qiime --help"
   ]
  },
  {
   "cell_type": "markdown",
   "id": "3ef66b06",
   "metadata": {},
   "source": [
    "## 4.2 - Get manifest_file.csv to import fastq data into qiime2\n",
    "    · Part 1: Generate file list CSV:\n",
    "\n",
    "    Specify the directory path and generate a CSV file containing the filenames. \n",
    "    Traverse through all files in the directory and write the filenames into the CSV file.\n",
    "\n",
    "    · Part 2: Generate manifest file:\n",
    "\n",
    "    Use the generated filename CSV file as input. \n",
    "    Specify the output manifest file path and generate a manifest file containing the sample-id, absolute file path, and direction.\n",
    "\n",
    "    \n",
    "    · Part 3: Import data into QIIME2\n",
    "\n"
   ]
  },
  {
   "cell_type": "code",
   "execution_count": null,
   "id": "a464ed47",
   "metadata": {
    "vscode": {
     "languageId": "python"
    }
   },
   "outputs": [],
   "source": [
    "#!/bin/bash\n",
    "\n",
    "# Enter the directory containing FASTQ files\n",
    "cd /Users/SUO/ncbi/test/fastq || exit\n",
    "\n",
    "# Create the manifest directory\n",
    "mkdir -p manifest\n",
    "\n",
    "# Create the manifest file header\n",
    "{\n",
    "    echo \"# paired-end PHRED 33 fastq manifest file for forward and reverse reads\"\n",
    "    echo -e \"sample-id\\tforward-absolute-filepath\\treverse-absolute-filepath\"\n",
    "} > manifest1.txt\n",
    "\n",
    "# Ensure parallel is installed\n",
    "if ! command -v parallel &> /dev/null\n",
    "then\n",
    "    echo \"parallel could not be found, installing...\"\n",
    "    conda install -c conda-forge parallel\n",
    "fi\n",
    "\n",
    "# Create a text file containing IDs and paths for forward and reverse reads, separated by tabs\n",
    "ls *.fastq | cut -d \"_\" -f 1 | sort | uniq | parallel -j0 --keep-order 'echo -e \"{/}\\t$PWD/{/}_1.fastq\\t$PWD/{/}_2.fastq\"' > manifest2.txt\n",
    "\n",
    "# Merge the header file and content file to generate the final manifest file\n",
    "cat manifest1.txt manifest2.txt > manifest/manifest.tsv\n",
    "\n",
    "# Delete temporary text files\n",
    "rm manifest1.txt manifest2.txt\n",
    "\n",
    "# Return to the previous directory\n",
    "cd ..\n"
   ]
  },
  {
   "cell_type": "code",
   "execution_count": null,
   "id": "dd43a073",
   "metadata": {
    "vscode": {
     "languageId": "python"
    }
   },
   "outputs": [],
   "source": [
    "# Initialize Conda\n",
    "source ~/anaconda3/etc/profile.d/conda.sh\n",
    "\n",
    "# Activate QIIME2 environment\n",
    "conda activate qiime2-amplicon-2024.2\n",
    "\n",
    "# Set the number of cores for parallel processing\n",
    "NCORES=24\n",
    "\n",
    "# Import sample data\n",
    "qiime tools import \\\n",
    "  --type 'SampleData[PairedEndSequencesWithQuality]' \\\n",
    "  --input-path /Users/SUO/ncbi/test/fastq/manifest/manifest.tsv \\\n",
    "  --output-path demux.qza \\\n",
    "  --input-format PairedEndFastqManifestPhred33V2\n",
    "\n",
    "# Check if the import was successful\n",
    "if [ $? -ne 0 ]; then\n",
    "    echo \"Data import failed. Please check the manifest file and paths.\"\n",
    "    exit 1\n",
    "fi\n",
    "\n",
    "# Generate a summary report of the data\n",
    "qiime demux summarize --i-data demux.qza --o-visualization demux.qzv\n",
    "\n",
    "# Check if the summary report was generated successfully\n",
    "if [ $? -ne 0 ]; then\n",
    "    echo \"Summarize failed. Please check the input data.\"\n",
    "    exit 1\n",
    "fi\n",
    "\n",
    "# Prompt to view the generated output report\n",
    "echo \"Data has been imported and summarized. You can view the output in demux.qzv.\"\n"
   ]
  },
  {
   "cell_type": "markdown",
   "id": "1bdef268",
   "metadata": {},
   "source": [
    "## 4.3 - Sequence quality control and feature table\n"
   ]
  },
  {
   "cell_type": "markdown",
   "id": "14aff3e0",
   "metadata": {},
   "source": [
    "01. Trim data using Cutadapt\n",
    "\n",
    "02. Denoise data using DADA2\n",
    "\n",
    "03. Remove chimeras using Vsearch\n",
    "\n",
    "04. OTU species classification and clustering with vsearch and Species taxonomic annotation\n",
    "\n",
    "05. Phylogenetic tree construction\n",
    "\n",
    "06. Diversity and composition analysis\n",
    "\n",
    "\n",
    "    · Alpha diversity analysis: Assess the complexity of species diversity within each sample through metrics such as species richness and evenness.\n",
    "    ?Shannon diversity index\n",
    "\n",
    "    · Beta diversity analysis: Evaluate the differences in species composition between samples using statistical methods.\n",
    "    ?Jaccard index\n",
    "    ?Bray-Curtis dissimilarity matrix\n",
    "\n",
    "    · summarize_taxa_through_plots.py: Use this QIIME script to summarize taxonomic composition and visualize the results in various plots.\n",
    "    \n",
    "    · OTU heat map and OTU network: Generate heat maps to visualize the relative abundance of OTUs across samples and create networks to visualize relationships between OTUs.\n"
   ]
  },
  {
   "cell_type": "markdown",
   "id": "0544b8cd",
   "metadata": {},
   "source": [
    "01. Trim data using Cutadapt"
   ]
  },
  {
   "cell_type": "code",
   "execution_count": null,
   "id": "c69f172a",
   "metadata": {
    "vscode": {
     "languageId": "python"
    }
   },
   "outputs": [],
   "source": [
    "#!/bin/bash\n",
    "\n",
    "# Define the list of sample IDs\n",
    "samples=(\"SRR6207228\" \"SRR6207229\" \"SRR6207226\" \"SRR6207235\" \"ERR4371932\" \"ERR4371938\" \"ERR4371941\" \"ERR3476225\" \"SRR8727637\" \"SRR8727632\" \"SRR8727636\" \"SRR8727634\")\n",
    "\n",
    "# Create output directory\n",
    "output_dir=\"trimmed_sequences\"\n",
    "mkdir -p ${output_dir}\n",
    "\n",
    "# Loop through each sample\n",
    "for sample in \"${samples[@]}\"; do\n",
    "  echo \"Processing sample ${sample}...\"\n",
    "\n",
    "  # Define input and output file paths\n",
    "  input_forward=\"/Users/SUO/ncbi/test/fastq/${sample}_1.fastq\"\n",
    "  input_reverse=\"/Users/SUO/ncbi/test/fastq/${sample}_2.fastq\"\n",
    "  output_forward=\"${output_dir}/${sample}_tr_R1.fastq.gz\"\n",
    "  output_reverse=\"${output_dir}/${sample}_tr_R2.fastq.gz\"\n",
    "\n",
    "  # Run Cutadapt for quality trimming\n",
    "  cutadapt -q 20 -m 50 --trim-n \\\n",
    "    -o ${output_forward} -p ${output_reverse} \\\n",
    "    ${input_forward} ${input_reverse}\n",
    "\n",
    "  echo \"Finished processing sample ${sample}.\"\n",
    "  echo \"Output files: ${output_forward}, ${output_reverse}\"\n",
    "done\n",
    "\n",
    "echo \"All samples processed.\"\n"
   ]
  },
  {
   "cell_type": "code",
   "execution_count": null,
   "id": "2b6d1827",
   "metadata": {
    "vscode": {
     "languageId": "python"
    }
   },
   "outputs": [],
   "source": [
    "#!/bin/bash\n",
    "\n",
    "# Enter the directory containing FASTQ files\n",
    "cd /Users/SUO/ncbi/test/fastq/0605/trimmed_sequences || exit\n",
    "\n",
    "# Create manifest directory\n",
    "mkdir -p tr_manifest\n",
    "\n",
    "# Create the manifest file header\n",
    "{\n",
    "    echo \"sample-id    forward-absolute-filepath    reverse-absolute-filepath\"\n",
    "} > tr_manifest1.txt\n",
    "\n",
    "# Create a text file containing IDs and paths for forward and reverse reads\n",
    "ls *.fastq.gz | cut -d \"_\" -f 1 | sort | uniq | while read sample; do\n",
    "    forward=\"${PWD}/${sample}_tr_R1.fastq.gz\"\n",
    "    reverse=\"${PWD}/${sample}_tr_R2.fastq.gz\"\n",
    "    if [[ -f \"$forward\" && -f \"$reverse\" ]]; then\n",
    "        echo -e \"${sample}\\t${forward}\\t${reverse}\"\n",
    "    else\n",
    "        echo \"Warning: Files for sample $sample not found. Skipping.\"\n",
    "    fi\n",
    "done > tr_manifest2.txt\n",
    "\n",
    "# Merge files\n",
    "cat tr_manifest1.txt tr_manifest2.txt > tr_manifest/tr_manifest.tsv\n",
    "\n",
    "# Return to the previous directory\n",
    "cd -\n"
   ]
  },
  {
   "cell_type": "markdown",
   "id": "609c5828",
   "metadata": {},
   "source": [
    "02. Denoise data using DADA2"
   ]
  },
  {
   "cell_type": "code",
   "execution_count": null,
   "id": "7209390e",
   "metadata": {
    "vscode": {
     "languageId": "python"
    }
   },
   "outputs": [],
   "source": [
    "# Import data\n",
    "qiime tools import \\\n",
    "  --type 'SampleData[PairedEndSequencesWithQuality]' \\\n",
    "  --input-path /Users/SUO/ncbi/test/fastq/0605/trimmed_sequences/tr_manifest/tr_manifest.tsv \\\n",
    "  --output-path demux_trimmed.qza \\\n",
    "  --input-format PairedEndFastqManifestPhred33V2\n",
    "\n",
    "\n",
    "# Perform denoising with DADA2\n",
    "qiime dada2 denoise-paired \\\n",
    "  --i-demultiplexed-seqs demux_trimmed.qza \\\n",
    "  --p-trim-left-f 0 \\\n",
    "  --p-trim-left-r 0 \\\n",
    "  --p-trunc-len-f 250 \\\n",
    "  --p-trunc-len-r 220 \\\n",
    "  --o-table table.qza \\\n",
    "  --o-representative-sequences rep-seqs.qza \\\n",
    "  --o-denoising-stats denoising-stats.qza\n",
    "\n"
   ]
  },
  {
   "cell_type": "code",
   "execution_count": null,
   "id": "52fca29f",
   "metadata": {
    "vscode": {
     "languageId": "python"
    }
   },
   "outputs": [],
   "source": [
    "qiime metadata tabulate \\\n",
    "  --m-input-file denoising-stats.qza \\\n",
    "  --o-visualization denoising-stats.qzv\n",
    "\n",
    "qiime feature-table summarize \\\n",
    "  --i-table table.qza \\\n",
    "  --o-visualization table.qzv \\\n",
    "  --m-sample-metadata-file /Users/SUO/ncbi/test/fastq/0605/trimmed_sequences/tr_manifest/tr_manifest.tsv\n",
    "\n",
    "\n",
    "qiime feature-table tabulate-seqs \\\n",
    "  --i-data rep-seqs.qza \\\n",
    "  --o-visualization rep-seqs.qzv\n"
   ]
  },
  {
   "cell_type": "markdown",
   "id": "24e05c3d",
   "metadata": {},
   "source": [
    "03. Remove chimeras using Vsearch\n",
    "\n",
    "        Although the current proportion of non-chimeric sequences is relatively high, further manual inspection and verification can help ensure the accuracy of the results."
   ]
  },
  {
   "cell_type": "code",
   "execution_count": null,
   "id": "2f2d462c",
   "metadata": {
    "vscode": {
     "languageId": "python"
    }
   },
   "outputs": [],
   "source": [
    "# Run VSEARCH chimera detection 运行VSEARCH嵌合体检测\n",
    "qiime vsearch uchime-denovo \\\n",
    "  --i-sequences rep-seqs.qza \\\n",
    "  --i-table table.qza \\\n",
    "  --o-chimeras chimeras.qza \\\n",
    "  --o-nonchimeras nonchimeras.qza \\\n",
    "  --o-stats chimera-stats.qza\n",
    "\n",
    "# Generate a new feature table from non-chimeric sequences 从非嵌合体序列生成新的特征表\n",
    "qiime feature-table filter-features \\\n",
    "  --i-table table.qza \\\n",
    "  --m-metadata-file nonchimeras.qza \\\n",
    "  --o-filtered-table filtered-table.qza\n",
    "\n",
    "# Visualize the new feature table 可视化新的特征表\n",
    "qiime feature-table summarize \\\n",
    "  --i-table filtered-table.qza \\\n",
    "  --o-visualization filtered-table.qzv \\\n",
    "  --m-sample-metadata-file /Users/SUO/ncbi/test/fastq/trimmed_sequences/tr_manifest/tr_manifest.tsv\n",
    "\n",
    "# Visualize the feature table of chimeric sequences 可视化嵌合体序列的特征表\n",
    "qiime feature-table filter-features \\\n",
    "  --i-table table.qza \\\n",
    "  --m-metadata-file chimeras.qza \\\n",
    "  --o-filtered-table chimeric-table.qza\n",
    "\n",
    "qiime feature-table summarize \\\n",
    "  --i-table chimeric-table.qza \\\n",
    "  --o-visualization chimeric-table.qzv \\\n",
    "  --m-sample-metadata-file /Users/SUO/ncbi/test/fastq/trimmed_sequences/tr_manifest/tr_manifest.tsv\n",
    "\n",
    "# Visualize chimera detection statistics 可视化嵌合体检测统计信息\n",
    "qiime metadata tabulate \\\n",
    "  --m-input-file chimera-stats.qza \\\n",
    "  --o-visualization chimera-stats.qzv\n"
   ]
  },
  {
   "cell_type": "markdown",
   "id": "71c7a608",
   "metadata": {},
   "source": [
    "04. OTU species classification and clustering with vsearch"
   ]
  },
  {
   "cell_type": "code",
   "execution_count": null,
   "id": "8a3fcedc",
   "metadata": {
    "vscode": {
     "languageId": "python"
    }
   },
   "outputs": [],
   "source": [
    "#  Run VSEARCH clustering 运行VSEARCH聚类\n",
    "qiime vsearch cluster-features-de-novo \\\n",
    "  --i-table table.qza \\\n",
    "  --i-sequences rep-seqs.qza \\\n",
    "  --p-perc-identity 0.97 \\\n",
    "  --o-clustered-table clustered-table.qza \\\n",
    "  --o-clustered-sequences clustered-seqs.qza\n",
    "\n",
    "# Visualize the clustered feature table 可视化聚类后的特征表\n",
    "qiime feature-table summarize \\\n",
    "  --i-table clustered-table.qza \\\n",
    "  --o-visualization clustered-table.qzv \\\n",
    "  --m-sample-metadata-file /Users/SUO/ncbi/test/fastq/trimmed_sequences/tr_manifest/tr_manifest.tsv\n",
    "\n",
    "# Visualize the clustered representative sequences 可视化聚类后的代表序列\n",
    "qiime feature-table tabulate-seqs \\\n",
    "  --i-data clustered-seqs.qza \\\n",
    "  --o-visualization clustered-seqs.qzv\n"
   ]
  },
  {
   "cell_type": "code",
   "execution_count": null,
   "id": "5e24cedb",
   "metadata": {
    "vscode": {
     "languageId": "python"
    }
   },
   "outputs": [],
   "source": [
    "#Download Silva training set for taxonomy annotation\n",
    "wget -c https://data.qiime2.org/2023.5/common/silva-138-99-nb-classifier.qza\n",
    "\n",
    "\n",
    "# Taxonomy annotation\n",
    "qiime feature-classifier classify-sklearn \\\n",
    "  --i-classifier silva-138-99-nb-classifier.qza \\\n",
    "  --i-reads clustered-seqs.qza \\\n",
    "  --o-classification taxonomy.qza\n",
    "\n",
    "qiime metadata tabulate \\\n",
    "  --m-input-file taxonomy.qza \\\n",
    "  --o-visualization taxonomy.qzv\n",
    "\n",
    "qiime taxa barplot \\\n",
    "  --i-table clustered-table.qza  \\\n",
    "  --i-taxonomy taxonomy.qza \\\n",
    "  --o-visualization taxa-bar-plots.qzv\n"
   ]
  },
  {
   "cell_type": "markdown",
   "id": "b09997ff",
   "metadata": {},
   "source": [
    "05. hylogenetic tree construction"
   ]
  },
  {
   "cell_type": "code",
   "execution_count": null,
   "id": "f92efc8b",
   "metadata": {
    "vscode": {
     "languageId": "python"
    }
   },
   "outputs": [],
   "source": [
    "\n",
    "# Step 1: Multiple Sequence Alignment\n",
    "qiime alignment mafft \\\n",
    "  --i-sequences clustered-seqs.qza \\\n",
    "  --o-alignment aligned-rep-seqs.qza\n",
    "\n",
    "# Step 2: Masking\n",
    "qiime alignment mask \\\n",
    "  --i-alignment aligned-rep-seqs.qza \\\n",
    "  --o-masked-alignment masked-aligned-rep-seqs.qza\n",
    "\n",
    "# Step 3: Construct Unrooted Tree\n",
    "qiime phylogeny fasttree \\\n",
    "  --i-alignment masked-aligned-rep-seqs.qza \\\n",
    "  --o-tree unrooted-tree.qza\n",
    "\n",
    "# Step 4: Root the Tree\n",
    "qiime phylogeny midpoint-root \\\n",
    "  --i-tree unrooted-tree.qza \\\n",
    "  --o-rooted-tree rooted-tree.qza\n",
    "\n",
    "qiime tools export \\\n",
    "  --input-path rooted-tree.qza \\\n",
    "  --output-path exported-tree"
   ]
  },
  {
   "cell_type": "markdown",
   "id": "6ed77eaf",
   "metadata": {},
   "source": [
    "06. Diversity and composition analysis\n",
    "\n",
    "\n",
    "    · Alpha diversity analysis: Assess the complexity of species diversity within each sample through metrics such as species richness and evenness.\n",
    "    ?Shannon diversity index\n",
    "\n",
    "    · Beta diversity analysis: Evaluate the differences in species composition between samples using statistical methods.\n",
    "    ?Jaccard index\n",
    "    ?Bray-Curtis dissimilarity matrix\n",
    "\n",
    "    \n",
    "    · OTU heat map and OTU network: Generate heat maps to visualize the relative abundance of OTUs across samples and create networks to visualize relationships between OTUs."
   ]
  },
  {
   "cell_type": "markdown",
   "id": "ee41ddf5",
   "metadata": {},
   "source": [
    "当没有生成系统发育树时仍可进行核心多样性的计算，运行代码如下：\n",
    "Core diversity calculation can still be performed even if a phylogenetic tree is not generated. Run the code as follows:\n",
    "qiime diversity core-metrics--i-table table.qza--p-sampling-depth xxx--m-metadata-file metadata.tsv --output-dir outdir"
   ]
  },
  {
   "cell_type": "code",
   "execution_count": null,
   "id": "9ade03f4",
   "metadata": {
    "vscode": {
     "languageId": "python"
    }
   },
   "outputs": [],
   "source": [
    "qiime diversity core-metrics-phylogenetic \\\n",
    "  --i-phylogeny rooted-tree.qza \\\n",
    "  --i-table clustered-table.qza \\\n",
    "  --p-sampling-depth 2000 \\\n",
    "  --m-metadata-file /Users/SUO/ncbi/test/fastq/trimmed_sequences/tr_manifest/tr_manifest.tsv \\\n",
    "  --output-dir core-metrics-results\n"
   ]
  },
  {
   "cell_type": "markdown",
   "id": "97e40198",
   "metadata": {},
   "source": [
    "The output files contain:\n",
    "输出结果文件 (13个数据文件):\n",
    "\n",
    "- core-metrics-results/faith_pd_vector.qza: Alpha多样性考虑进化的faith指数；  \n",
    "  (Alpha diversity Faith's phylogenetic diversity index)\n",
    "\n",
    "- core-metrics-results/unweighted_unifrac_distance_matrix.qza: 无权重unifrac距离矩阵；  \n",
    "  (Unweighted UniFrac distance matrix)\n",
    "\n",
    "- core-metrics-results/bray_curtis_pcoa_results.qza: 基于Bray-Curtis距离PCoA的结果；  \n",
    "  (PCoA results based on Bray-Curtis distance)\n",
    "\n",
    "- core-metrics-results/shannon_vector.qza: Alpha多样性香农指数；  \n",
    "  (Alpha diversity Shannon index)\n",
    "\n",
    "- core-metrics-results/rarefied_table.qza: 等量重采样后的特征表；  \n",
    "  (Feature table after rarefaction)\n",
    "\n",
    "- core-metrics-results/weighted_unifrac_distance_matrix.qza: 有权重的unifrac距离矩阵；  \n",
    "  (Weighted UniFrac distance matrix)\n",
    "\n",
    "- core-metrics-results/jaccard_pcoa_results.qza: jaccard距离PCoA结果；  \n",
    "  (PCoA results based on Jaccard distance)\n",
    "\n",
    "- core-metrics-results/observed_otus_vector.qza: Alpha多样性observed otus指数；  \n",
    "  (Alpha diversity observed OTUs index)\n",
    "\n",
    "- core-metrics-results/weighted_unifrac_pcoa_results.qza: 基于有权重的unifrac距离PCoA结果；  \n",
    "  (PCoA results based on weighted UniFrac distance)\n",
    "\n",
    "- core-metrics-results/jaccard_distance_matrix.qza: jaccard距离矩阵；  \n",
    "  (Jaccard distance matrix)\n",
    "\n",
    "- core-metrics-results/evenness_vector.qza: Alpha多样性均匀度指数；  \n",
    "  (Alpha diversity evenness index)\n",
    "\n",
    "- core-metrics-results/bray_curtis_distance_matrix.qza: Bray-Curtis距离矩阵；  \n",
    "  (Bray-Curtis distance matrix)\n",
    "\n",
    "- core-metrics-results/unweighted_unifrac_pcoa_results.qza: 无权重的unifrac距离的PCoA结果。  \n",
    "  (PCoA results based on unweighted UniFrac distance)\n",
    "\n",
    "Output files (4 types of visualizations):\n",
    "输出对象 (4种可视化结果):\n",
    "\n",
    "- core-metrics-results/unweighted_unifrac_emperor.qzv: 无权重的unifrac距离PCoA结果采用emperor可视化；  \n",
    "  (PCoA results based on unweighted UniFrac distance visualized using Emperor)\n",
    "\n",
    "- core-metrics-results/jaccard_emperor.qzv: jaccard距离PCoA结果采用emperor可视化；  \n",
    "  (PCoA results based on Jaccard distance visualized using Emperor)\n",
    "\n",
    "- core-metrics-results/bray_curtis_emperor.qzv: Bray-Curtis距离PCoA结果采用emperor可视化；  \n",
    "  (PCoA results based on Bray-Curtis distance visualized using Emperor)\n",
    "\n",
    "- core-metrics-results/weighted_unifrac_emperor.qzv: 有权重的unifrac距离PCoA结果采用emperor可视化。  \n",
    "  (PCoA results based on weighted UniFrac distance visualized using Emperor)"
   ]
  },
  {
   "cell_type": "markdown",
   "id": "e70ec233",
   "metadata": {},
   "source": [
    "Alpha多样性组间显著性分析和可视化命令：\n",
    "Command for significance analysis and visualization of alpha diversity between groups:"
   ]
  },
  {
   "cell_type": "code",
   "execution_count": null,
   "id": "88191bed",
   "metadata": {
    "vscode": {
     "languageId": "python"
    }
   },
   "outputs": [],
   "source": [
    "\n",
    "qiime diversity alpha-group-significance \\\n",
    "  --i-alpha-diversity core-metrics-results/faith_pd_vector.qza \\\n",
    "  --m-metadata-file /Users/SUO/ncbi/test/fastq/trimmed_sequences/tr_manifest/tr_manifest.tsv \\\n",
    "  --o-visualization core-metrics-results/faiths_pd_statistics.qzv"
   ]
  },
  {
   "cell_type": "markdown",
   "id": "a1f7b7dd",
   "metadata": {},
   "source": [
    "用方差分析（ANOVA）来测试多重效应是否显着影响α多样性\n",
    "Use analysis of variance (ANOVA) to test whether multiple factors significantly affect alpha diversity"
   ]
  },
  {
   "cell_type": "code",
   "execution_count": null,
   "id": "fe9b9ebc",
   "metadata": {
    "vscode": {
     "languageId": "python"
    }
   },
   "outputs": [],
   "source": [
    "qiime longitudinal anova\n",
    "--m-metadata-file core-metrics-results/faith_pd_vector.qza\n",
    "--m-metadata-file /Users/SUO/ncbi/test/fastq/trimmed_sequences/tr_manifest/tr_manifest.tsv \\\n",
    "--p-formula 'faith_pd ~ genotype * donor_status' \n",
    "--o-visualization core-metrics-results/faiths_pd_anova.qzv\n"
   ]
  },
  {
   "cell_type": "markdown",
   "id": "7bcf29c8",
   "metadata": {},
   "source": [
    "Beta多样性组间显著性分析和可视化\n",
    "Significance analysis and visualization of beta diversity between groups"
   ]
  },
  {
   "cell_type": "code",
   "execution_count": null,
   "id": "69c8f332",
   "metadata": {
    "vscode": {
     "languageId": "python"
    }
   },
   "outputs": [],
   "source": [
    "qiime diversity beta-group-significance \n",
    "--i-distance-matrix core-metrics-results/unweighted_unifrac_distance_matrix.qza\n",
    "--m-metadata-file /Users/SUO/ncbi/test/fastq/trimmed_sequences/tr_manifest/tr_manifest.tsv \n",
    "--m-metadata-column group \n",
    "--o-visualization core-metrics-results/unweighted-unifrac-cage-significance.qzv\n",
    "--p-pairwise\n"
   ]
  },
  {
   "cell_type": "markdown",
   "id": "8beefc6b",
   "metadata": {},
   "source": [
    "检查group相关的差异是否是由于group内较大差异引起\n",
    "Check if the differences related to the group are caused by significant differences within the group"
   ]
  },
  {
   "cell_type": "code",
   "execution_count": null,
   "id": "1ab34745",
   "metadata": {
    "vscode": {
     "languageId": "python"
    }
   },
   "outputs": [],
   "source": [
    "qiime diversity beta-group-significance\n",
    "--i-distance-matrix core-metrics-results/weighted_unifrac_distance_matrix.qza\n",
    "--m-metadata-file /Users/SUO/ncbi/test/fastq/trimmed_sequences/tr_manifest/tr_manifest.tsv \n",
    "--m-metadata-column group \n",
    "--o-visualization core-metrics-results/unweighted-unifrac-cage-significance_disp.qzv\n",
    "--p-method permdisp"
   ]
  },
  {
   "cell_type": "markdown",
   "id": "0368214a",
   "metadata": {},
   "source": [
    "Alpha稀疏和深度选择 Alpha Rarefaction and Selecting a Rarefaction Depth"
   ]
  },
  {
   "cell_type": "code",
   "execution_count": null,
   "id": "b542d579",
   "metadata": {
    "vscode": {
     "languageId": "python"
    }
   },
   "outputs": [],
   "source": [
    " qiime diversity alpha-rarefaction\n",
    "--i-table clustered-table.qza \n",
    "--i-phylogeny rooted-tree.qza \n",
    "--p-max-depth 4250\n",
    "--m-metadata-file /Users/SUO/ncbi/test/fastq/trimmed_sequences/tr_manifest/tr_manifest.tsv\n",
    "--o-visualization alpha-rarefaction.qzv\n"
   ]
  }
 ],
 "metadata": {
  "kernelspec": {
   "display_name": "R",
   "language": "R",
   "name": "ir"
  },
  "language_info": {
   "codemirror_mode": "r",
   "file_extension": ".r",
   "mimetype": "text/x-r-source",
   "name": "R",
   "pygments_lexer": "r",
   "version": "4.1.2"
  }
 },
 "nbformat": 4,
 "nbformat_minor": 5
}
